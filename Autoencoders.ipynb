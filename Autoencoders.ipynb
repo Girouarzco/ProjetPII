{
  "cells": [
    {
      "cell_type": "code",
      "execution_count": null,
      "metadata": {
        "id": "-JKJPJlppsf4"
      },
      "outputs": [],
      "source": [
        "# import pandas lib as pd\n",
        "import pandas as pd\n",
        "import matplotlib.pyplot as plt\n",
        "import numpy as np\n",
        "\n",
        "import tensorflow as tf\n",
        "from tensorflow import keras\n",
        "\n",
        "from sklearn import preprocessing\n",
        "from sklearn.model_selection import train_test_split"
      ]
    },
    {
      "cell_type": "code",
      "source": [
        "from google.colab import files\n",
        "data_to_load = files.upload()"
      ],
      "metadata": {
        "colab": {
          "base_uri": "https://localhost:8080/",
          "height": 74
        },
        "id": "C-BhYYWvquYH",
        "outputId": "93808fdf-719a-442b-a71b-e54587f157f0"
      },
      "execution_count": null,
      "outputs": [
        {
          "output_type": "display_data",
          "data": {
            "text/plain": [
              "<IPython.core.display.HTML object>"
            ],
            "text/html": [
              "\n",
              "     <input type=\"file\" id=\"files-bd747fae-02dd-428d-ba0d-fa0aa16778c8\" name=\"files[]\" multiple disabled\n",
              "        style=\"border:none\" />\n",
              "     <output id=\"result-bd747fae-02dd-428d-ba0d-fa0aa16778c8\">\n",
              "      Upload widget is only available when the cell has been executed in the\n",
              "      current browser session. Please rerun this cell to enable.\n",
              "      </output>\n",
              "      <script>// Copyright 2017 Google LLC\n",
              "//\n",
              "// Licensed under the Apache License, Version 2.0 (the \"License\");\n",
              "// you may not use this file except in compliance with the License.\n",
              "// You may obtain a copy of the License at\n",
              "//\n",
              "//      http://www.apache.org/licenses/LICENSE-2.0\n",
              "//\n",
              "// Unless required by applicable law or agreed to in writing, software\n",
              "// distributed under the License is distributed on an \"AS IS\" BASIS,\n",
              "// WITHOUT WARRANTIES OR CONDITIONS OF ANY KIND, either express or implied.\n",
              "// See the License for the specific language governing permissions and\n",
              "// limitations under the License.\n",
              "\n",
              "/**\n",
              " * @fileoverview Helpers for google.colab Python module.\n",
              " */\n",
              "(function(scope) {\n",
              "function span(text, styleAttributes = {}) {\n",
              "  const element = document.createElement('span');\n",
              "  element.textContent = text;\n",
              "  for (const key of Object.keys(styleAttributes)) {\n",
              "    element.style[key] = styleAttributes[key];\n",
              "  }\n",
              "  return element;\n",
              "}\n",
              "\n",
              "// Max number of bytes which will be uploaded at a time.\n",
              "const MAX_PAYLOAD_SIZE = 100 * 1024;\n",
              "\n",
              "function _uploadFiles(inputId, outputId) {\n",
              "  const steps = uploadFilesStep(inputId, outputId);\n",
              "  const outputElement = document.getElementById(outputId);\n",
              "  // Cache steps on the outputElement to make it available for the next call\n",
              "  // to uploadFilesContinue from Python.\n",
              "  outputElement.steps = steps;\n",
              "\n",
              "  return _uploadFilesContinue(outputId);\n",
              "}\n",
              "\n",
              "// This is roughly an async generator (not supported in the browser yet),\n",
              "// where there are multiple asynchronous steps and the Python side is going\n",
              "// to poll for completion of each step.\n",
              "// This uses a Promise to block the python side on completion of each step,\n",
              "// then passes the result of the previous step as the input to the next step.\n",
              "function _uploadFilesContinue(outputId) {\n",
              "  const outputElement = document.getElementById(outputId);\n",
              "  const steps = outputElement.steps;\n",
              "\n",
              "  const next = steps.next(outputElement.lastPromiseValue);\n",
              "  return Promise.resolve(next.value.promise).then((value) => {\n",
              "    // Cache the last promise value to make it available to the next\n",
              "    // step of the generator.\n",
              "    outputElement.lastPromiseValue = value;\n",
              "    return next.value.response;\n",
              "  });\n",
              "}\n",
              "\n",
              "/**\n",
              " * Generator function which is called between each async step of the upload\n",
              " * process.\n",
              " * @param {string} inputId Element ID of the input file picker element.\n",
              " * @param {string} outputId Element ID of the output display.\n",
              " * @return {!Iterable<!Object>} Iterable of next steps.\n",
              " */\n",
              "function* uploadFilesStep(inputId, outputId) {\n",
              "  const inputElement = document.getElementById(inputId);\n",
              "  inputElement.disabled = false;\n",
              "\n",
              "  const outputElement = document.getElementById(outputId);\n",
              "  outputElement.innerHTML = '';\n",
              "\n",
              "  const pickedPromise = new Promise((resolve) => {\n",
              "    inputElement.addEventListener('change', (e) => {\n",
              "      resolve(e.target.files);\n",
              "    });\n",
              "  });\n",
              "\n",
              "  const cancel = document.createElement('button');\n",
              "  inputElement.parentElement.appendChild(cancel);\n",
              "  cancel.textContent = 'Cancel upload';\n",
              "  const cancelPromise = new Promise((resolve) => {\n",
              "    cancel.onclick = () => {\n",
              "      resolve(null);\n",
              "    };\n",
              "  });\n",
              "\n",
              "  // Wait for the user to pick the files.\n",
              "  const files = yield {\n",
              "    promise: Promise.race([pickedPromise, cancelPromise]),\n",
              "    response: {\n",
              "      action: 'starting',\n",
              "    }\n",
              "  };\n",
              "\n",
              "  cancel.remove();\n",
              "\n",
              "  // Disable the input element since further picks are not allowed.\n",
              "  inputElement.disabled = true;\n",
              "\n",
              "  if (!files) {\n",
              "    return {\n",
              "      response: {\n",
              "        action: 'complete',\n",
              "      }\n",
              "    };\n",
              "  }\n",
              "\n",
              "  for (const file of files) {\n",
              "    const li = document.createElement('li');\n",
              "    li.append(span(file.name, {fontWeight: 'bold'}));\n",
              "    li.append(span(\n",
              "        `(${file.type || 'n/a'}) - ${file.size} bytes, ` +\n",
              "        `last modified: ${\n",
              "            file.lastModifiedDate ? file.lastModifiedDate.toLocaleDateString() :\n",
              "                                    'n/a'} - `));\n",
              "    const percent = span('0% done');\n",
              "    li.appendChild(percent);\n",
              "\n",
              "    outputElement.appendChild(li);\n",
              "\n",
              "    const fileDataPromise = new Promise((resolve) => {\n",
              "      const reader = new FileReader();\n",
              "      reader.onload = (e) => {\n",
              "        resolve(e.target.result);\n",
              "      };\n",
              "      reader.readAsArrayBuffer(file);\n",
              "    });\n",
              "    // Wait for the data to be ready.\n",
              "    let fileData = yield {\n",
              "      promise: fileDataPromise,\n",
              "      response: {\n",
              "        action: 'continue',\n",
              "      }\n",
              "    };\n",
              "\n",
              "    // Use a chunked sending to avoid message size limits. See b/62115660.\n",
              "    let position = 0;\n",
              "    do {\n",
              "      const length = Math.min(fileData.byteLength - position, MAX_PAYLOAD_SIZE);\n",
              "      const chunk = new Uint8Array(fileData, position, length);\n",
              "      position += length;\n",
              "\n",
              "      const base64 = btoa(String.fromCharCode.apply(null, chunk));\n",
              "      yield {\n",
              "        response: {\n",
              "          action: 'append',\n",
              "          file: file.name,\n",
              "          data: base64,\n",
              "        },\n",
              "      };\n",
              "\n",
              "      let percentDone = fileData.byteLength === 0 ?\n",
              "          100 :\n",
              "          Math.round((position / fileData.byteLength) * 100);\n",
              "      percent.textContent = `${percentDone}% done`;\n",
              "\n",
              "    } while (position < fileData.byteLength);\n",
              "  }\n",
              "\n",
              "  // All done.\n",
              "  yield {\n",
              "    response: {\n",
              "      action: 'complete',\n",
              "    }\n",
              "  };\n",
              "}\n",
              "\n",
              "scope.google = scope.google || {};\n",
              "scope.google.colab = scope.google.colab || {};\n",
              "scope.google.colab._files = {\n",
              "  _uploadFiles,\n",
              "  _uploadFilesContinue,\n",
              "};\n",
              "})(self);\n",
              "</script> "
            ]
          },
          "metadata": {}
        },
        {
          "output_type": "stream",
          "name": "stdout",
          "text": [
            "Saving Roncalli_1.xlsx to Roncalli_1.xlsx\n"
          ]
        }
      ]
    },
    {
      "cell_type": "code",
      "source": [
        "import io\n",
        "df = pd.read_excel(io.BytesIO(data_to_load['Roncalli_1.xlsx']))"
      ],
      "metadata": {
        "id": "t7tUx0FzqoU5"
      },
      "execution_count": null,
      "outputs": []
    },
    {
      "cell_type": "code",
      "execution_count": null,
      "metadata": {
        "colab": {
          "base_uri": "https://localhost:8080/"
        },
        "id": "uy--OAmIpsf5",
        "outputId": "ea7f3d11-344a-44cb-e4d1-110c37a002ec"
      },
      "outputs": [
        {
          "output_type": "stream",
          "name": "stdout",
          "text": [
            "      data1.xslx  data2.xslx  data3.xslx  data4.xslx\n",
            "0       0.983462    0.731206    0.641959   -1.318966\n",
            "1       1.115975   -0.414339    1.489651   -0.780408\n",
            "2       1.818945   -0.640731   -0.711362    0.512834\n",
            "3      -2.318941    1.987009    0.887977    2.341409\n",
            "4       1.845036   -1.146967   -0.640244    1.820961\n",
            "...          ...         ...         ...         ...\n",
            "9995    2.193553   -0.979288   -0.178521    0.561198\n",
            "9996   -0.722819   -0.538349    3.120764    1.173642\n",
            "9997   -4.184991    1.493178   -1.210554   -4.698969\n",
            "9998    1.380005    1.277666    0.351506    0.436189\n",
            "9999    0.995301   -0.312204   -0.300906   -1.311474\n",
            "\n",
            "[10000 rows x 4 columns]\n"
          ]
        }
      ],
      "source": [
        "# read by default 1st sheet of an excel file\n",
        "df = pd.read_excel('Roncalli_1.xlsx')\n",
        "print(df)"
      ]
    },
    {
      "cell_type": "code",
      "execution_count": null,
      "metadata": {
        "id": "34kmjyFzpsf7"
      },
      "outputs": [],
      "source": [
        "# Separate data into numpy\n",
        "data1 = df['data1.xslx'].to_numpy()\n",
        "data2 = df['data2.xslx'].to_numpy()\n",
        "data3 = df['data3.xslx'].to_numpy()\n",
        "data4 = df['data4.xslx'].to_numpy()\n",
        "x1=df[['data1.xslx','data2.xslx','data3.xslx','data4.xslx']].to_numpy()\n",
        "\n",
        "\n"
      ]
    },
    {
      "cell_type": "code",
      "execution_count": null,
      "metadata": {
        "colab": {
          "base_uri": "https://localhost:8080/"
        },
        "id": "QbwVnYCNpsf7",
        "outputId": "600e69e9-03e8-4ea8-ec15-4b6095f89a2e"
      },
      "outputs": [
        {
          "output_type": "execute_result",
          "data": {
            "text/plain": [
              "array([0., 0., 0., ..., 0., 0., 0.])"
            ]
          },
          "metadata": {},
          "execution_count": 6
        }
      ],
      "source": [
        "def generate_samples(data, sample_size): #Get a sample in our data\n",
        "    n_samples = data.shape[0]//sample_size\n",
        "    result = np.empty((n_samples, sample_size))\n",
        "    for i in range(n_samples):\n",
        "        result[i] = data[i*sample_size : i*sample_size + sample_size]\n",
        "    return(result)\n",
        "\n",
        "test_data_points = 3000\n",
        "sample_size = 3000\n",
        "\n",
        "data1_train = x1[0:x1.shape[0]-test_data_points] # All the value except the last 3000 value\n",
        "data1_test = x1[-test_data_points:] # 3000 last value of msft_high\n",
        "#X_data1_train = generate_samples(data1_train, sample_size)\n",
        "X_data1_test = np.zeros(len(data1_test))\n",
        "X_data1_test"
      ]
    },
    {
      "cell_type": "code",
      "execution_count": null,
      "metadata": {
        "id": "vK2_EJ0Wpsf7"
      },
      "outputs": [],
      "source": [
        "\n",
        "\n",
        "class Sampling(keras.layers.Layer):\n",
        "    def call(self, inputs):\n",
        "        mean, log_var = inputs\n",
        "        return K.random_normal(tf.shape(log_var)) * K.exp(log_var / 2) + mean\n",
        "  \n",
        "np.random.seed = 1234\n",
        "tf.random.set_seed(1234)\n",
        "K=keras.backend\n",
        "keras.backend.clear_session()\n",
        "latent_dim = 1\n",
        "inputs = keras.layers.Input(shape=[4,])\n",
        "z = keras.layers.Dense(4, activation='relu')(inputs)\n",
        "z = keras.layers.Dropout(0.1)(z)\n",
        "z = keras.layers.Dense(3, activation='relu')(z)\n",
        "z = keras.layers.Dropout(0.1)(z)\n",
        "z = keras.layers.Dense(2, activation='relu')(z)\n",
        "latent_mean = keras.layers.Dense(latent_dim)(z)\n",
        "latent_log_var = keras.layers.Dense(latent_dim)(z)\n",
        "sample = Sampling()([latent_mean, latent_log_var])\n",
        "variational_encoder = keras.models.Model(\n",
        "inputs=[inputs], outputs=[latent_mean, latent_log_var, sample])\n",
        "decoder_inputs = keras.layers.Input(shape=[latent_dim])\n",
        "x = keras.layers.Dense(2, activation='relu')(decoder_inputs)\n",
        "x = keras.layers.Dense(3, activation='relu')(x)\n",
        "x = keras.layers.Dense(4, activation='relu')(x)\n",
        "outputs = keras.layers.Dense(4, activation='tanh')(x)\n",
        "variational_decoder = keras.models.Model(inputs=[decoder_inputs], outputs=[outputs])\n",
        "_, _, sample = variational_encoder(inputs)\n",
        "reconstructions = variational_decoder(sample)\n",
        "variational_ae = keras.models.Model(inputs=[inputs], outputs=[reconstructions])\n",
        "latent_loss = -0.5 * K.sum(\n",
        "1 + latent_log_var - K.exp(latent_log_var) - K.square(latent_mean),\n",
        "axis=-1)\n",
        "variational_ae.add_loss(K.mean(latent_loss)/(4*1.))\n",
        "variational_ae.compile(loss='mse',\n",
        "optimizer=keras.optimizers.Adam(learning_rate=0.005),\n",
        "metrics=['mse'])\n",
        "variational_ae.save('vae.tf', save_format='tf')"
      ]
    },
    {
      "cell_type": "code",
      "execution_count": null,
      "metadata": {
        "colab": {
          "base_uri": "https://localhost:8080/"
        },
        "id": "7rpuMScopsf8",
        "outputId": "d5839f75-b33f-4d7a-aef0-f1444d18ff8b"
      },
      "outputs": [
        {
          "output_type": "stream",
          "name": "stdout",
          "text": [
            "Epoch 1/10\n",
            "1167/1167 [==============================] - 5s 3ms/step - loss: 2.8544 - mse: 2.8543\n",
            "Epoch 2/10\n",
            "1167/1167 [==============================] - 3s 3ms/step - loss: 2.8533 - mse: 2.8533\n",
            "Epoch 3/10\n",
            "1167/1167 [==============================] - 3s 3ms/step - loss: 2.8535 - mse: 2.8535\n",
            "Epoch 4/10\n",
            "1167/1167 [==============================] - 3s 3ms/step - loss: 2.8532 - mse: 2.8532\n",
            "Epoch 5/10\n",
            "1167/1167 [==============================] - 3s 3ms/step - loss: 2.8526 - mse: 2.8526\n",
            "Epoch 6/10\n",
            "1167/1167 [==============================] - 3s 3ms/step - loss: 2.8535 - mse: 2.8535\n",
            "Epoch 7/10\n",
            "1167/1167 [==============================] - 3s 3ms/step - loss: 2.8537 - mse: 2.8537\n",
            "Epoch 8/10\n",
            "1167/1167 [==============================] - 3s 3ms/step - loss: 2.8530 - mse: 2.8530\n",
            "Epoch 9/10\n",
            "1167/1167 [==============================] - 3s 3ms/step - loss: 2.8531 - mse: 2.8531\n",
            "Epoch 10/10\n",
            "1167/1167 [==============================] - 3s 3ms/step - loss: 2.8534 - mse: 2.8534\n"
          ]
        }
      ],
      "source": [
        "vae_mft = keras.models.load_model('vae.tf')\n",
        "history = vae_mft.fit(data1_train,data1_train, epochs=10, batch_size=6)"
      ]
    },
    {
      "cell_type": "code",
      "source": [
        "datasimulated = vae_mft.predict(data1_test)\n"
      ],
      "metadata": {
        "colab": {
          "base_uri": "https://localhost:8080/"
        },
        "id": "d9ub5euM8hRP",
        "outputId": "6d15fa54-f513-4d0f-dc43-295c81be8dd0"
      },
      "execution_count": null,
      "outputs": [
        {
          "output_type": "stream",
          "name": "stdout",
          "text": [
            "94/94 [==============================] - 0s 2ms/step\n"
          ]
        }
      ]
    },
    {
      "cell_type": "code",
      "source": [
        "data1_test"
      ],
      "metadata": {
        "colab": {
          "base_uri": "https://localhost:8080/"
        },
        "id": "eKkVSp0v1tbR",
        "outputId": "06b6ae49-97e4-463e-9613-65b198010d17"
      },
      "execution_count": null,
      "outputs": [
        {
          "output_type": "execute_result",
          "data": {
            "text/plain": [
              "array([[-3.88139836,  0.47678052, -1.70755885, -2.3373677 ],\n",
              "       [-1.96435204,  0.85778366, -3.20613466, -2.12219809],\n",
              "       [-0.48137043,  0.19042553, -3.74706101, -1.47654638],\n",
              "       ...,\n",
              "       [-4.18499145,  1.49317783, -1.21055422, -4.69896875],\n",
              "       [ 1.38000541,  1.27766601,  0.35150601,  0.43618942],\n",
              "       [ 0.99530073, -0.31220365, -0.30090562, -1.31147408]])"
            ]
          },
          "metadata": {},
          "execution_count": 20
        }
      ]
    },
    {
      "cell_type": "code",
      "execution_count": null,
      "metadata": {
        "id": "AR2n31sgpsf8",
        "colab": {
          "base_uri": "https://localhost:8080/",
          "height": 499
        },
        "outputId": "c836b9c2-d2dd-4849-f703-7638976d3755"
      },
      "outputs": [
        {
          "output_type": "display_data",
          "data": {
            "text/plain": [
              "<Figure size 864x576 with 4 Axes>"
            ],
            "image/png": "[encoded data removed]"
          },
          "metadata": {
            "needs_background": "light"
          }
        }
      ],
      "source": [
        "# Plot of out distribution:\n",
        "fig, ax = plt.subplots(2, 2, figsize = (12,8))\n",
        "ax[0,0].hist(df['data1.xslx'], bins=50, color='b',rwidth=0.7)\n",
        "ax[0,0].set_title(\"Data1 Distribution\")\n",
        "ax[0,1].hist(df['data2.xslx'], bins=50, color='g',rwidth=0.7)\n",
        "ax[0,1].set_title(\"Data2 Distribution\")\n",
        "ax[1,0].hist(df['data3.xslx'], bins=50, color='m',rwidth=0.7)\n",
        "ax[1,0].set_title(\"Data3 Distribution\")\n",
        "ax[1,1].hist(df['data4.xslx'], bins=50, color='c',rwidth=0.7)\n",
        "ax[1,1].set_title(\"Data4 Distribution\")\n",
        "plt.show()"
      ]
    },
    {
      "cell_type": "code",
      "source": [
        "print(datasimulated)\n",
        "dfnew = pd.DataFrame(datasimulated, columns = [\"D1\",\"D2\",\"D3\",\"D4\"])\n",
        "dfnew\n"
      ],
      "metadata": {
        "colab": {
          "base_uri": "https://localhost:8080/",
          "height": 549
        },
        "id": "-g_rg5X8d8D5",
        "outputId": "43a63a55-3e78-4770-ab75-7b65d38aaa5a"
      },
      "execution_count": null,
      "outputs": [
        {
          "output_type": "stream",
          "name": "stdout",
          "text": [
            "[[ 0.20797238 -0.04649606  0.03206296  0.04869435]\n",
            " [ 0.20797238 -0.04649606  0.03206296  0.04869435]\n",
            " [ 0.20797238 -0.04649606  0.03206296  0.04869435]\n",
            " ...\n",
            " [ 0.20797238 -0.04649606  0.03206296  0.04869435]\n",
            " [ 0.20797238 -0.04649606  0.03206296  0.04869435]\n",
            " [ 0.20797238 -0.04649606  0.03206296  0.04869435]]\n"
          ]
        },
        {
          "output_type": "execute_result",
          "data": {
            "text/plain": [
              "            D1        D2        D3        D4\n",
              "0     0.207972 -0.046496  0.032063  0.048694\n",
              "1     0.207972 -0.046496  0.032063  0.048694\n",
              "2     0.207972 -0.046496  0.032063  0.048694\n",
              "3     0.207972 -0.046496  0.032063  0.048694\n",
              "4     0.207972 -0.046496  0.032063  0.048694\n",
              "...        ...       ...       ...       ...\n",
              "2995  0.207972 -0.046496  0.032063  0.048694\n",
              "2996  0.207972 -0.046496  0.032063  0.048694\n",
              "2997  0.207972 -0.046496  0.032063  0.048694\n",
              "2998  0.207972 -0.046496  0.032063  0.048694\n",
              "2999  0.207972 -0.046496  0.032063  0.048694\n",
              "\n",
              "[3000 rows x 4 columns]"
            ],
            "text/html": [
              "\n",
              "  <div id=\"df-222ac858-b524-4cad-9faa-092fa05f885e\">\n",
              "    <div class=\"colab-df-container\">\n",
              "      <div>\n",
              "<style scoped>\n",
              "    .dataframe tbody tr th:only-of-type {\n",
              "        vertical-align: middle;\n",
              "    }\n",
              "\n",
              "    .dataframe tbody tr th {\n",
              "        vertical-align: top;\n",
              "    }\n",
              "\n",
              "    .dataframe thead th {\n",
              "        text-align: right;\n",
              "    }\n",
              "</style>\n",
              "<table border=\"1\" class=\"dataframe\">\n",
              "  <thead>\n",
              "    <tr style=\"text-align: right;\">\n",
              "      <th></th>\n",
              "      <th>D1</th>\n",
              "      <th>D2</th>\n",
              "      <th>D3</th>\n",
              "      <th>D4</th>\n",
              "    </tr>\n",
              "  </thead>\n",
              "  <tbody>\n",
              "    <tr>\n",
              "      <th>0</th>\n",
              "      <td>0.207972</td>\n",
              "      <td>-0.046496</td>\n",
              "      <td>0.032063</td>\n",
              "      <td>0.048694</td>\n",
              "    </tr>\n",
              "    <tr>\n",
              "      <th>1</th>\n",
              "      <td>0.207972</td>\n",
              "      <td>-0.046496</td>\n",
              "      <td>0.032063</td>\n",
              "      <td>0.048694</td>\n",
              "    </tr>\n",
              "    <tr>\n",
              "      <th>2</th>\n",
              "      <td>0.207972</td>\n",
              "      <td>-0.046496</td>\n",
              "      <td>0.032063</td>\n",
              "      <td>0.048694</td>\n",
              "    </tr>\n",
              "    <tr>\n",
              "      <th>3</th>\n",
              "      <td>0.207972</td>\n",
              "      <td>-0.046496</td>\n",
              "      <td>0.032063</td>\n",
              "      <td>0.048694</td>\n",
              "    </tr>\n",
              "    <tr>\n",
              "      <th>4</th>\n",
              "      <td>0.207972</td>\n",
              "      <td>-0.046496</td>\n",
              "      <td>0.032063</td>\n",
              "      <td>0.048694</td>\n",
              "    </tr>\n",
              "    <tr>\n",
              "      <th>...</th>\n",
              "      <td>...</td>\n",
              "      <td>...</td>\n",
              "      <td>...</td>\n",
              "      <td>...</td>\n",
              "    </tr>\n",
              "    <tr>\n",
              "      <th>2995</th>\n",
              "      <td>0.207972</td>\n",
              "      <td>-0.046496</td>\n",
              "      <td>0.032063</td>\n",
              "      <td>0.048694</td>\n",
              "    </tr>\n",
              "    <tr>\n",
              "      <th>2996</th>\n",
              "      <td>0.207972</td>\n",
              "      <td>-0.046496</td>\n",
              "      <td>0.032063</td>\n",
              "      <td>0.048694</td>\n",
              "    </tr>\n",
              "    <tr>\n",
              "      <th>2997</th>\n",
              "      <td>0.207972</td>\n",
              "      <td>-0.046496</td>\n",
              "      <td>0.032063</td>\n",
              "      <td>0.048694</td>\n",
              "    </tr>\n",
              "    <tr>\n",
              "      <th>2998</th>\n",
              "      <td>0.207972</td>\n",
              "      <td>-0.046496</td>\n",
              "      <td>0.032063</td>\n",
              "      <td>0.048694</td>\n",
              "    </tr>\n",
              "    <tr>\n",
              "      <th>2999</th>\n",
              "      <td>0.207972</td>\n",
              "      <td>-0.046496</td>\n",
              "      <td>0.032063</td>\n",
              "      <td>0.048694</td>\n",
              "    </tr>\n",
              "  </tbody>\n",
              "</table>\n",
              "<p>3000 rows × 4 columns</p>\n",
              "</div>\n",
              "      <button class=\"colab-df-convert\" onclick=\"convertToInteractive('df-222ac858-b524-4cad-9faa-092fa05f885e')\"\n",
              "              title=\"Convert this dataframe to an interactive table.\"\n",
              "              style=\"display:none;\">\n",
              "        \n",
              "  <svg xmlns=\"http://www.w3.org/2000/svg\" height=\"24px\"viewBox=\"0 0 24 24\"\n",
              "       width=\"24px\">\n",
              "    <path d=\"M0 0h24v24H0V0z\" fill=\"none\"/>\n",
              "    <path d=\"M18.56 5.44l.94 2.06.94-2.06 2.06-.94-2.06-.94-.94-2.06-.94 2.06-2.06.94zm-11 1L8.5 8.5l.94-2.06 2.06-.94-2.06-.94L8.5 2.5l-.94 2.06-2.06.94zm10 10l.94 2.06.94-2.06 2.06-.94-2.06-.94-.94-2.06-.94 2.06-2.06.94z\"/><path d=\"M17.41 7.96l-1.37-1.37c-.4-.4-.92-.59-1.43-.59-.52 0-1.04.2-1.43.59L10.3 9.45l-7.72 7.72c-.78.78-.78 2.05 0 2.83L4 21.41c.39.39.9.59 1.41.59.51 0 1.02-.2 1.41-.59l7.78-7.78 2.81-2.81c.8-.78.8-2.07 0-2.86zM5.41 20L4 18.59l7.72-7.72 1.47 1.35L5.41 20z\"/>\n",
              "  </svg>\n",
              "      </button>\n",
              "      \n",
              "  <style>\n",
              "    .colab-df-container {\n",
              "      display:flex;\n",
              "      flex-wrap:wrap;\n",
              "      gap: 12px;\n",
              "    }\n",
              "\n",
              "    .colab-df-convert {\n",
              "      background-color: #E8F0FE;\n",
              "      border: none;\n",
              "      border-radius: 50%;\n",
              "      cursor: pointer;\n",
              "      display: none;\n",
              "      fill: #1967D2;\n",
              "      height: 32px;\n",
              "      padding: 0 0 0 0;\n",
              "      width: 32px;\n",
              "    }\n",
              "\n",
              "    .colab-df-convert:hover {\n",
              "      background-color: #E2EBFA;\n",
              "      box-shadow: 0px 1px 2px rgba(60, 64, 67, 0.3), 0px 1px 3px 1px rgba(60, 64, 67, 0.15);\n",
              "      fill: #174EA6;\n",
              "    }\n",
              "\n",
              "    [theme=dark] .colab-df-convert {\n",
              "      background-color: #3B4455;\n",
              "      fill: #D2E3FC;\n",
              "    }\n",
              "\n",
              "    [theme=dark] .colab-df-convert:hover {\n",
              "      background-color: #434B5C;\n",
              "      box-shadow: 0px 1px 3px 1px rgba(0, 0, 0, 0.15);\n",
              "      filter: drop-shadow(0px 1px 2px rgba(0, 0, 0, 0.3));\n",
              "      fill: #FFFFFF;\n",
              "    }\n",
              "  </style>\n",
              "\n",
              "      <script>\n",
              "        const buttonEl =\n",
              "          document.querySelector('#df-222ac858-b524-4cad-9faa-092fa05f885e button.colab-df-convert');\n",
              "        buttonEl.style.display =\n",
              "          google.colab.kernel.accessAllowed ? 'block' : 'none';\n",
              "\n",
              "        async function convertToInteractive(key) {\n",
              "          const element = document.querySelector('#df-222ac858-b524-4cad-9faa-092fa05f885e');\n",
              "          const dataTable =\n",
              "            await google.colab.kernel.invokeFunction('convertToInteractive',\n",
              "                                                     [key], {});\n",
              "          if (!dataTable) return;\n",
              "\n",
              "          const docLinkHtml = 'Like what you see? Visit the ' +\n",
              "            '<a target=\"_blank\" href=https://colab.research.google.com/notebooks/data_table.ipynb>data table notebook</a>'\n",
              "            + ' to learn more about interactive tables.';\n",
              "          element.innerHTML = '';\n",
              "          dataTable['output_type'] = 'display_data';\n",
              "          await google.colab.output.renderOutput(dataTable, element);\n",
              "          const docLink = document.createElement('div');\n",
              "          docLink.innerHTML = docLinkHtml;\n",
              "          element.appendChild(docLink);\n",
              "        }\n",
              "      </script>\n",
              "    </div>\n",
              "  </div>\n",
              "  "
            ]
          },
          "metadata": {},
          "execution_count": 26
        }
      ]
    },
    {
      "cell_type": "code",
      "source": [
        "fig, ax = plt.subplots(2, 2, figsize = (12,8))\n",
        "ax[0,0].hist(dfnew['D1'], bins=50, color='b',rwidth=0.7)\n",
        "ax[0,0].set_title(\"D1 Distribution\")\n",
        "ax[0,1].hist(dfnew['D2'], bins=50, color='g',rwidth=0.7)\n",
        "ax[0,1].set_title(\"D2 Distribution\")\n",
        "ax[1,0].hist(dfnew['D3'], bins=50, color='m',rwidth=0.7)\n",
        "ax[1,0].set_title(\"D3 Distribution\")\n",
        "ax[1,1].hist(dfnew['D4'], bins=50, color='c',rwidth=0.7)\n",
        "ax[1,1].set_title(\"D4 Distribution\")\n",
        "plt.show()"
      ],
      "metadata": {
        "colab": {
          "base_uri": "https://localhost:8080/",
          "height": 499
        },
        "id": "XaRrWtgDd6VO",
        "outputId": "2257706f-0458-4120-b6f2-155966ca5480"
      },
      "execution_count": null,
      "outputs": [
        {
          "output_type": "display_data",
          "data": {
            "text/plain": [
              "<Figure size 864x576 with 4 Axes>"
            ],
            "image/png": "[encoded data removed]"
          },
          "metadata": {
            "needs_background": "light"
          }
        }
      ]
    },
    {
      "cell_type": "code",
      "source": [],
      "metadata": {
        "id": "xDglAi7LdyOv"
      },
      "execution_count": null,
      "outputs": []
    },
    {
      "cell_type": "code",
      "source": [
        "\n",
        "initial_vectors = data1_test\n",
        "print(len(initial_vectors))\n",
        "simulated_vectors = datasimulated\n",
        "print(len(simulated_vectors))"
      ],
      "metadata": {
        "id": "NhMeMZABoGgY",
        "colab": {
          "base_uri": "https://localhost:8080/"
        },
        "outputId": "617987cf-294f-45cb-fda1-b60222ac4fdb"
      },
      "execution_count": null,
      "outputs": [
        {
          "output_type": "stream",
          "name": "stdout",
          "text": [
            "3000\n",
            "3000\n"
          ]
        }
      ]
    },
    {
      "cell_type": "code",
      "source": [
        "import scipy.stats as ss\n",
        "\n",
        "# Assuming 'initial_vectors' is a 4x10000 numpy array containing the 10000 returns of 4 differents stocks\n",
        "# and 'simulated_vectors' is a 4xN numpy array containing the 4 simulated vectors with the VAE method\n",
        "kl_distance = ss.entropy(initial_vectors.flatten(), simulated_vectors.flatten())\n",
        "print('KL distance:', kl_distance)"
      ],
      "metadata": {
        "id": "tE5La-TqoJvH",
        "colab": {
          "base_uri": "https://localhost:8080/"
        },
        "outputId": "219e90ca-2a08-46c1-ba28-6efa62f5efd2"
      },
      "execution_count": null,
      "outputs": [
        {
          "output_type": "stream",
          "name": "stdout",
          "text": [
            "KL distance: inf\n"
          ]
        }
      ]
    },
    {
      "cell_type": "code",
      "source": [
        "cov1 = np.cov(initial_vectors, rowvar=False)\n",
        "cov2 = np.cov(simulated_vectors, rowvar=False)"
      ],
      "metadata": {
        "id": "I_5MaNejomtD"
      },
      "execution_count": null,
      "outputs": []
    },
    {
      "cell_type": "code",
      "source": [
        "diff = cov1 - cov2\n",
        "frobenius_norm = np.linalg.norm(diff, 'fro')\n",
        "print(frobenius_norm)"
      ],
      "metadata": {
        "id": "yA6y0qX3oopQ",
        "colab": {
          "base_uri": "https://localhost:8080/"
        },
        "outputId": "4667c3dc-f7cf-4504-ddf0-c4f06fd52c7a"
      },
      "execution_count": null,
      "outputs": [
        {
          "output_type": "stream",
          "name": "stdout",
          "text": [
            "7.4962473421213165\n"
          ]
        }
      ]
    },
    {
      "cell_type": "code",
      "source": [
        "import scipy.spatial.distance as ssd\n",
        "re = ssd.rel_entr(cov1.flatten(), cov2.flatten())\n",
        "print(re)"
      ],
      "metadata": {
        "id": "1JzC_DEIoqly",
        "colab": {
          "base_uri": "https://localhost:8080/"
        },
        "outputId": "0b75c0c7-8ef7-4ddd-993f-a668eb61cff3"
      },
      "execution_count": null,
      "outputs": [
        {
          "output_type": "stream",
          "name": "stdout",
          "text": [
            "[1.30649445e+02            inf 6.54802040e-02            inf\n",
            "            inf 3.95484991e+01            inf            inf\n",
            " 6.54802040e-02            inf 4.13141744e+01            inf\n",
            "            inf            inf            inf 4.50705625e+01]\n"
          ]
        }
      ]
    }
  ],
  "metadata": {
    "kernelspec": {
      "display_name": "Python 3",
      "language": "python",
      "name": "python3"
    },
    "language_info": {
      "codemirror_mode": {
        "name": "ipython",
        "version": 3
      },
      "file_extension": ".py",
      "mimetype": "text/x-python",
      "name": "python",
      "nbconvert_exporter": "python",
      "pygments_lexer": "ipython3",
      "version": "3.7.6"
    },
    "colab": {
      "provenance": []
    }
  },
  "nbformat": 4,
  "nbformat_minor": 0
}